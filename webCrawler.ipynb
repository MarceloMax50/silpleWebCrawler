{
 "cells": [
  {
   "cell_type": "markdown",
   "metadata": {},
   "source": [
    "**WebCrawler"
   ]
  },
  {
   "cell_type": "code",
   "execution_count": 108,
   "metadata": {},
   "outputs": [],
   "source": [
    "import requests\n",
    "from bs4 import BeautifulSoup"
   ]
  },
  {
   "cell_type": "code",
   "execution_count": 109,
   "metadata": {},
   "outputs": [],
   "source": [
    "def start(url):\n",
    " \n",
    "    wordlist = []\n",
    "    source_code = requests.get(url).text\n",
    " \n",
    "    soup = BeautifulSoup(source_code, 'html.parser')\n",
    " \n",
    "    for each_text in soup.findAll('div'):\n",
    "        content = each_text.text\n",
    "        \n",
    "        words = content.lower().split()\n",
    "        \n",
    "        for each_word in words:\n",
    "            wordlist.append(each_word)\n",
    "            \n",
    "    clean_wordlist(wordlist)"
   ]
  },
  {
   "cell_type": "code",
   "execution_count": 110,
   "metadata": {},
   "outputs": [],
   "source": [
    "def clean_wordlist(wordlist):\n",
    " \n",
    "    strWord =\"\"\n",
    "    clean_list = []\n",
    "    for word in wordlist:\n",
    "        symbols = \"!@#$%^&*()_-+={[}]|\\;:\\\"<>?/., \"\n",
    " \n",
    "        for i in range(len(symbols)):\n",
    "            word = word.replace(symbols[i], '')\n",
    " \n",
    "        if len(word) >= 8 and word not in clean_list:\n",
    "            clean_list.append(word)\n",
    "\n",
    "    for word in clean_list:\n",
    "        strWord += word + \"\\n\"\n",
    "\n",
    "    with open('readme.txt', 'w') as f:\n",
    "        f.write(strWord)\n",
    "        print(strWord)\n"
   ]
  },
  {
   "cell_type": "code",
   "execution_count": 111,
   "metadata": {},
   "outputs": [
    {
     "name": "stdout",
     "output_type": "stream",
     "text": [
      "operation\n",
      "installation\n",
      "equivalent\n",
      "packaging\n",
      "installed\n",
      "properly\n",
      "varwwwhtmlindexhtml\n",
      "continuing\n",
      "probably\n",
      "currently\n",
      "unavailable\n",
      "maintenance\n",
      "persists\n",
      "administrator\n",
      "configuration\n",
      "overview\n",
      "ubuntu's\n",
      "different\n",
      "upstream\n",
      "optimized\n",
      "interaction\n",
      "documented\n",
      "usrsharedocapache2readmedebiangz\n",
      "documentation\n",
      "accessing\n",
      "apache2doc\n",
      "etcapache2\n",
      "apache2conf\n",
      "portsconf\n",
      "modsenabled\n",
      "confenabled\n",
      "sitesenabled\n",
      "together\n",
      "including\n",
      "remaining\n",
      "starting\n",
      "included\n",
      "determine\n",
      "listening\n",
      "incoming\n",
      "connections\n",
      "customized\n",
      "directories\n",
      "particular\n",
      "snippets\n",
      "fragments\n",
      "configurations\n",
      "respectively\n",
      "activated\n",
      "symlinking\n",
      "available\n",
      "respective\n",
      "counterparts\n",
      "a2dismod\n",
      "a2ensite\n",
      "a2dissite\n",
      "a2enconf\n",
      "a2disconf\n",
      "detailed\n",
      "information\n",
      "environment\n",
      "variables\n",
      "startedstopped\n",
      "etcinitdapache2\n",
      "apache2ctl\n",
      "usrbinapache2\n",
      "directly\n",
      "document\n",
      "publichtml\n",
      "usrshare\n",
      "applications\n",
      "elsewhere\n",
      "whitelist\n",
      "directory\n",
      "etcapache2apache2conf\n",
      "varwwwhtml\n",
      "previous\n",
      "releases\n",
      "provides\n",
      "security\n",
      "reporting\n",
      "problems\n",
      "ubuntubug\n",
      "existing\n",
      "specific\n",
      "packages\n",
      "\n"
     ]
    }
   ],
   "source": [
    "url = \"http://10.5.10.34\"\n",
    "start(url)"
   ]
  }
 ],
 "metadata": {
  "interpreter": {
   "hash": "b3ba2566441a7c06988d0923437866b63cedc61552a5af99d1f4fb67d367b25f"
  },
  "kernelspec": {
   "display_name": "Python 3.9.7 64-bit (system)",
   "language": "python",
   "name": "python3"
  },
  "language_info": {
   "codemirror_mode": {
    "name": "ipython",
    "version": 3
   },
   "file_extension": ".py",
   "mimetype": "text/x-python",
   "name": "python",
   "nbconvert_exporter": "python",
   "pygments_lexer": "ipython3",
   "version": "3.9.7"
  },
  "orig_nbformat": 4
 },
 "nbformat": 4,
 "nbformat_minor": 2
}
